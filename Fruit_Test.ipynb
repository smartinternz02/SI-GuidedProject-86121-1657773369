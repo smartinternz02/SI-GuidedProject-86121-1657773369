{
 "cells": [
  {
   "cell_type": "code",
   "execution_count": 33,
   "id": "7f1059a0",
   "metadata": {},
   "outputs": [],
   "source": [
    "import keras as kf\n",
    "import tensorflow as tf"
   ]
  },
  {
   "cell_type": "code",
   "execution_count": 34,
   "id": "5bbcf11d",
   "metadata": {},
   "outputs": [],
   "source": [
    "from keras.preprocessing import image\n",
    "from tensorflow.keras.preprocessing.image import img_to_array\n",
    "from tensorflow.keras.models import load_model\n",
    "import numpy as np"
   ]
  },
  {
   "cell_type": "code",
   "execution_count": 52,
   "id": "9ffbea30",
   "metadata": {},
   "outputs": [],
   "source": [
    "model = load_model(\"fruits.h5\")"
   ]
  },
  {
   "cell_type": "code",
   "execution_count": 53,
   "id": "c4137e8c",
   "metadata": {},
   "outputs": [],
   "source": [
    "img = kf.utils.load_img(r'C:\\Users\\Hema\\Desktop\\BUILDATHON\\Fertilizers_Recommendation_System_For_Disease_Prediction\\Dataset Plant Disease\\fruit-dataset\\fruit-dataset\\test\\Apple_healthy\\00fca0da-2db3-481b-b98a-9b67bb7b105c___RS_HL 7708.jpg',target_size = (128,128))"
   ]
  },
  {
   "cell_type": "code",
   "execution_count": 54,
   "id": "541c369b",
   "metadata": {},
   "outputs": [],
   "source": [
    "x = kf.utils.img_to_array(img)\n",
    "x = np.expand_dims(x,axis = 0)"
   ]
  },
  {
   "cell_type": "code",
   "execution_count": 59,
   "id": "faeae57b",
   "metadata": {},
   "outputs": [
    {
     "name": "stdout",
     "output_type": "stream",
     "text": [
      "1/1 [==============================] - 0s 281ms/step\n"
     ]
    }
   ],
   "source": [
    "#predict_x=model.predict(X) \n",
    "#classes_x=np.argmax(predict_x,axis=1)\n",
    "#pred = model.predict_classes(x)\n",
    "pred = (model.predict(x) > 0.5).astype(\"int32\")"
   ]
  },
  {
   "cell_type": "code",
   "execution_count": 60,
   "id": "c8b5e89a",
   "metadata": {},
   "outputs": [
    {
     "data": {
      "text/plain": [
       "array([[0, 1, 0, 0, 0, 0]])"
      ]
     },
     "execution_count": 60,
     "metadata": {},
     "output_type": "execute_result"
    }
   ],
   "source": [
    "pred"
   ]
  },
  {
   "cell_type": "code",
   "execution_count": null,
   "id": "453f9dc8",
   "metadata": {},
   "outputs": [],
   "source": []
  }
 ],
 "metadata": {
  "kernelspec": {
   "display_name": "Python 3 (ipykernel)",
   "language": "python",
   "name": "python3"
  },
  "language_info": {
   "codemirror_mode": {
    "name": "ipython",
    "version": 3
   },
   "file_extension": ".py",
   "mimetype": "text/x-python",
   "name": "python",
   "nbconvert_exporter": "python",
   "pygments_lexer": "ipython3",
   "version": "3.9.12"
  }
 },
 "nbformat": 4,
 "nbformat_minor": 5
}
