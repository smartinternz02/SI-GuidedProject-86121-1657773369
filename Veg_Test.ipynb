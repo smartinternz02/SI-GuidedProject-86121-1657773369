{
 "cells": [
  {
   "cell_type": "code",
   "execution_count": 1,
   "id": "68cceeef",
   "metadata": {},
   "outputs": [],
   "source": [
    "import keras as kf\n",
    "import tensorflow as tf"
   ]
  },
  {
   "cell_type": "code",
   "execution_count": 2,
   "id": "14089155",
   "metadata": {},
   "outputs": [],
   "source": [
    "from keras.preprocessing import image\n",
    "from tensorflow.keras.preprocessing.image import img_to_array\n",
    "from tensorflow.keras.models import load_model\n",
    "import numpy as np"
   ]
  },
  {
   "cell_type": "code",
   "execution_count": 4,
   "id": "986493b3",
   "metadata": {},
   "outputs": [],
   "source": [
    "model = load_model(\"vegetable.h5\")"
   ]
  },
  {
   "cell_type": "code",
   "execution_count": 12,
   "id": "e669aa02",
   "metadata": {},
   "outputs": [],
   "source": [
    "img = kf.utils.load_img(r'C:\\Users\\Hema\\Desktop\\BUILDATHON\\Fertilizers_Recommendation_System_For_Disease_Prediction\\Dataset Plant Disease\\Veg-dataset\\Veg-dataset\\test\\Pepper,_bell___healthy\\b45d62a2-3de1-411b-8f88-ab52195b6dda___JR_HL_7639.jpg',target_size = (128,128))"
   ]
  },
  {
   "cell_type": "code",
   "execution_count": 13,
   "id": "ac466eb1",
   "metadata": {},
   "outputs": [],
   "source": [
    "x = kf.utils.img_to_array(img)\n",
    "x = np.expand_dims(x,axis = 0)"
   ]
  },
  {
   "cell_type": "code",
   "execution_count": 14,
   "id": "60d4e1fa",
   "metadata": {},
   "outputs": [
    {
     "name": "stdout",
     "output_type": "stream",
     "text": [
      "1/1 [==============================] - 0s 127ms/step\n"
     ]
    }
   ],
   "source": [
    "#predict_x=model.predict(X) \n",
    "#classes_x=np.argmax(predict_x,axis=1)\n",
    "#pred = model.predict_classes(x)\n",
    "pred = (model.predict(x) > 0.5).astype(\"int32\")"
   ]
  },
  {
   "cell_type": "code",
   "execution_count": 15,
   "id": "e4e37e92",
   "metadata": {},
   "outputs": [
    {
     "data": {
      "text/plain": [
       "array([[0, 1, 0, 0, 0, 0, 0, 0, 0]])"
      ]
     },
     "execution_count": 15,
     "metadata": {},
     "output_type": "execute_result"
    }
   ],
   "source": [
    "pred"
   ]
  },
  {
   "cell_type": "code",
   "execution_count": null,
   "id": "337deffd",
   "metadata": {},
   "outputs": [],
   "source": []
  }
 ],
 "metadata": {
  "kernelspec": {
   "display_name": "Python 3 (ipykernel)",
   "language": "python",
   "name": "python3"
  },
  "language_info": {
   "codemirror_mode": {
    "name": "ipython",
    "version": 3
   },
   "file_extension": ".py",
   "mimetype": "text/x-python",
   "name": "python",
   "nbconvert_exporter": "python",
   "pygments_lexer": "ipython3",
   "version": "3.9.12"
  }
 },
 "nbformat": 4,
 "nbformat_minor": 5
}
