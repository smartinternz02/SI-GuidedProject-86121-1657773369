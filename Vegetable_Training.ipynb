{
 "cells": [
  {
   "cell_type": "code",
   "execution_count": 31,
   "id": "4382c1d9",
   "metadata": {},
   "outputs": [],
   "source": [
    "from keras.preprocessing.image import ImageDataGenerator\n",
    "train_datagen = ImageDataGenerator(rescale=1./255,shear_range = 0.2, zoom_range = 0.2, horizontal_flip = True)\n",
    "test_datagen = ImageDataGenerator(rescale = 1)"
   ]
  },
  {
   "cell_type": "code",
   "execution_count": 45,
   "id": "7ac05f45",
   "metadata": {},
   "outputs": [
    {
     "name": "stdout",
     "output_type": "stream",
     "text": [
      "Found 11386 images belonging to 9 classes.\n",
      "Found 3416 images belonging to 9 classes.\n"
     ]
    }
   ],
   "source": [
    "x_train = train_datagen.flow_from_directory(r'C:\\Users\\Hema\\Desktop\\BUILDATHON\\Fertilizers_Recommendation_System_For_Disease_Prediction\\Dataset Plant Disease\\veg-dataset\\veg-dataset/train',target_size = (128,128),batch_size = 16,class_mode = 'categorical')\n",
    "x_test = train_datagen.flow_from_directory(r'C:\\Users\\Hema\\Desktop\\BUILDATHON\\Fertilizers_Recommendation_System_For_Disease_Prediction\\Dataset Plant Disease\\veg-dataset\\veg-dataset/test',target_size = (128,128),batch_size = 16,class_mode = 'categorical')"
   ]
  },
  {
   "cell_type": "code",
   "execution_count": 46,
   "id": "495a0dfc",
   "metadata": {},
   "outputs": [],
   "source": [
    "from keras.models import Sequential\n",
    "from keras.layers import Dense\n",
    "from keras.layers import Convolution2D\n",
    "from keras.layers import MaxPooling2D\n",
    "from keras.layers import Flatten"
   ]
  },
  {
   "cell_type": "code",
   "execution_count": 47,
   "id": "144ec6e8",
   "metadata": {},
   "outputs": [],
   "source": [
    "model=Sequential()"
   ]
  },
  {
   "cell_type": "code",
   "execution_count": 48,
   "id": "243cf2ce",
   "metadata": {},
   "outputs": [],
   "source": [
    "model.add(Convolution2D(32,(3,3), input_shape = (128,128,3),activation = 'relu'))"
   ]
  },
  {
   "cell_type": "code",
   "execution_count": 49,
   "id": "3ab80821",
   "metadata": {},
   "outputs": [],
   "source": [
    "model.add(MaxPooling2D(pool_size=(4,4)))"
   ]
  },
  {
   "cell_type": "code",
   "execution_count": 50,
   "id": "1d52f804",
   "metadata": {},
   "outputs": [],
   "source": [
    "model.add(Flatten())"
   ]
  },
  {
   "cell_type": "code",
   "execution_count": 51,
   "id": "f34345f4",
   "metadata": {},
   "outputs": [],
   "source": [
    "model.add(Dense(units = 300, activation = 'relu'))\n",
    "model.add(Dense(units = 150, activation = 'relu'))\n",
    "model.add(Dense(units = 175, activation = 'relu'))\n",
    "model.add(Dense(units = 9, activation = 'softmax'))"
   ]
  },
  {
   "cell_type": "code",
   "execution_count": 52,
   "id": "fcd4968a",
   "metadata": {},
   "outputs": [],
   "source": [
    "model.compile(loss='categorical_crossentropy', optimizer = 'adam', metrics = [\"accuracy\"])"
   ]
  },
  {
   "cell_type": "code",
   "execution_count": 53,
   "id": "dd53c0d8",
   "metadata": {},
   "outputs": [
    {
     "name": "stderr",
     "output_type": "stream",
     "text": [
      "C:\\Users\\Hema\\AppData\\Local\\Temp\\ipykernel_17424\\902562565.py:1: UserWarning: `Model.fit_generator` is deprecated and will be removed in a future version. Please use `Model.fit`, which supports generators.\n",
      "  model.fit_generator(x_train,steps_per_epoch = 89,epochs = 20, validation_data = x_test, validation_steps = 27)\n"
     ]
    },
    {
     "name": "stdout",
     "output_type": "stream",
     "text": [
      "Epoch 1/20\n",
      "89/89 [==============================] - 39s 428ms/step - loss: 1.9598 - accuracy: 0.2849 - val_loss: 1.5335 - val_accuracy: 0.4606\n",
      "Epoch 2/20\n",
      "89/89 [==============================] - 38s 429ms/step - loss: 1.4413 - accuracy: 0.4838 - val_loss: 1.3827 - val_accuracy: 0.5023\n",
      "Epoch 3/20\n",
      "89/89 [==============================] - 41s 458ms/step - loss: 1.1484 - accuracy: 0.6053 - val_loss: 1.0948 - val_accuracy: 0.6181\n",
      "Epoch 4/20\n",
      "89/89 [==============================] - 38s 427ms/step - loss: 1.0333 - accuracy: 0.6292 - val_loss: 0.9559 - val_accuracy: 0.6597\n",
      "Epoch 5/20\n",
      "89/89 [==============================] - 36s 407ms/step - loss: 0.8340 - accuracy: 0.6987 - val_loss: 0.9028 - val_accuracy: 0.6875\n",
      "Epoch 6/20\n",
      "89/89 [==============================] - 35s 391ms/step - loss: 0.8170 - accuracy: 0.7177 - val_loss: 0.8004 - val_accuracy: 0.7060\n",
      "Epoch 7/20\n",
      "89/89 [==============================] - 33s 372ms/step - loss: 0.7180 - accuracy: 0.7289 - val_loss: 0.7552 - val_accuracy: 0.7454\n",
      "Epoch 8/20\n",
      "89/89 [==============================] - 32s 362ms/step - loss: 0.6767 - accuracy: 0.7605 - val_loss: 0.5440 - val_accuracy: 0.8009\n",
      "Epoch 9/20\n",
      "89/89 [==============================] - 34s 382ms/step - loss: 0.5934 - accuracy: 0.7921 - val_loss: 0.5720 - val_accuracy: 0.7870\n",
      "Epoch 10/20\n",
      "89/89 [==============================] - 33s 365ms/step - loss: 0.6351 - accuracy: 0.7669 - val_loss: 0.5775 - val_accuracy: 0.8079\n",
      "Epoch 11/20\n",
      "89/89 [==============================] - 31s 347ms/step - loss: 0.5950 - accuracy: 0.8013 - val_loss: 0.6224 - val_accuracy: 0.7569\n",
      "Epoch 12/20\n",
      "89/89 [==============================] - 32s 358ms/step - loss: 0.5401 - accuracy: 0.8069 - val_loss: 0.5173 - val_accuracy: 0.8310\n",
      "Epoch 13/20\n",
      "89/89 [==============================] - 32s 357ms/step - loss: 0.5473 - accuracy: 0.8020 - val_loss: 0.4666 - val_accuracy: 0.8264\n",
      "Epoch 14/20\n",
      "89/89 [==============================] - 33s 368ms/step - loss: 0.4674 - accuracy: 0.8406 - val_loss: 0.4571 - val_accuracy: 0.8542\n",
      "Epoch 15/20\n",
      "89/89 [==============================] - 32s 360ms/step - loss: 0.4237 - accuracy: 0.8462 - val_loss: 0.5452 - val_accuracy: 0.8148\n",
      "Epoch 16/20\n",
      "89/89 [==============================] - 33s 372ms/step - loss: 0.4139 - accuracy: 0.8469 - val_loss: 0.5136 - val_accuracy: 0.8218\n",
      "Epoch 17/20\n",
      "89/89 [==============================] - 32s 363ms/step - loss: 0.4931 - accuracy: 0.8279 - val_loss: 0.4973 - val_accuracy: 0.8264\n",
      "Epoch 18/20\n",
      "89/89 [==============================] - 32s 358ms/step - loss: 0.4704 - accuracy: 0.8308 - val_loss: 0.3590 - val_accuracy: 0.8565\n",
      "Epoch 19/20\n",
      "89/89 [==============================] - 29s 325ms/step - loss: 0.4658 - accuracy: 0.8279 - val_loss: 0.4695 - val_accuracy: 0.8102\n",
      "Epoch 20/20\n",
      "89/89 [==============================] - 31s 352ms/step - loss: 0.4118 - accuracy: 0.8546 - val_loss: 0.3457 - val_accuracy: 0.8889\n"
     ]
    },
    {
     "data": {
      "text/plain": [
       "<keras.callbacks.History at 0x1da4257d760>"
      ]
     },
     "execution_count": 53,
     "metadata": {},
     "output_type": "execute_result"
    }
   ],
   "source": [
    "model.fit_generator(x_train,steps_per_epoch = 89,epochs = 20, validation_data = x_test, validation_steps = 27)"
   ]
  },
  {
   "cell_type": "code",
   "execution_count": 41,
   "id": "4df73baf",
   "metadata": {},
   "outputs": [],
   "source": [
    "model.save('vegetable.h5')"
   ]
  },
  {
   "cell_type": "code",
   "execution_count": null,
   "id": "46523cd4",
   "metadata": {},
   "outputs": [],
   "source": []
  }
 ],
 "metadata": {
  "kernelspec": {
   "display_name": "Python 3 (ipykernel)",
   "language": "python",
   "name": "python3"
  },
  "language_info": {
   "codemirror_mode": {
    "name": "ipython",
    "version": 3
   },
   "file_extension": ".py",
   "mimetype": "text/x-python",
   "name": "python",
   "nbconvert_exporter": "python",
   "pygments_lexer": "ipython3",
   "version": "3.9.12"
  }
 },
 "nbformat": 4,
 "nbformat_minor": 5
}
